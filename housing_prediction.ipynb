{
 "cells": [
  {
   "cell_type": "code",
   "execution_count": 44,
   "metadata": {},
   "outputs": [
    {
     "name": "stdout",
     "output_type": "stream",
     "text": [
      "PyTorch version: 2.1.2\n",
      "Is MPS (Metal Performance Shader) built? True\n",
      "Is MPS available? True\n",
      "Using device: mps\n"
     ]
    }
   ],
   "source": [
    "import torch\n",
    "from torch.utils.data import TensorDataset, DataLoader\n",
    "import numpy as np\n",
    "import pandas as pd\n",
    "import sklearn\n",
    "import matplotlib.pyplot as plt\n",
    "from sklearn.model_selection import train_test_split\n",
    "from sklearn.preprocessing import LabelEncoder, StandardScaler\n",
    "import torch.nn as nn\n",
    "import torch.nn.functional as F\n",
    "\n",
    "print(f\"PyTorch version: {torch.__version__}\")\n",
    "\n",
    "# Check PyTorch has access to MPS (Metal Performance Shader, Apple's GPU architecture)\n",
    "print(f\"Is MPS (Metal Performance Shader) built? {torch.backends.mps.is_built()}\")\n",
    "print(f\"Is MPS available? {torch.backends.mps.is_available()}\")\n",
    "\n",
    "# Set the device      \n",
    "device = \"mps\" if torch.backends.mps.is_available() else \"cpu\"\n",
    "print(f\"Using device: {device}\")"
   ]
  },
  {
   "cell_type": "markdown",
   "metadata": {},
   "source": [
    "# 读取&处理数据集"
   ]
  },
  {
   "cell_type": "code",
   "execution_count": 45,
   "metadata": {},
   "outputs": [],
   "source": [
    "df = pd.read_csv(\"data/Housing.csv\")"
   ]
  },
  {
   "cell_type": "code",
   "execution_count": 46,
   "metadata": {},
   "outputs": [],
   "source": [
    "label_encoders = {}\n",
    "for column in ['mainroad', 'guestroom', 'basement', 'hotwaterheating', 'airconditioning', 'prefarea', 'furnishingstatus']:\n",
    "    le = LabelEncoder()\n",
    "    df[column] = le.fit_transform(df[column])\n",
    "    label_encoders[column] = le"
   ]
  },
  {
   "cell_type": "code",
   "execution_count": 47,
   "metadata": {},
   "outputs": [
    {
     "name": "stdout",
     "output_type": "stream",
     "text": [
      "        price      area  bedrooms  bathrooms   stories  mainroad  guestroom  \\\n",
      "0    13300000  1.046726  1.403419   1.421812  1.378217         1          0   \n",
      "1    12250000  1.757010  1.403419   5.405809  2.532024         1          0   \n",
      "2    12250000  2.218232  0.047278   1.421812  0.224410         1          0   \n",
      "3    12215000  1.083624  1.403419   1.421812  0.224410         1          0   \n",
      "4    11410000  1.046726  1.403419  -0.570187  0.224410         1          1   \n",
      "..        ...       ...       ...        ...       ...       ...        ...   \n",
      "540   1820000 -0.991879 -1.308863  -0.570187 -0.929397         1          0   \n",
      "541   1767150 -1.268613  0.047278  -0.570187 -0.929397         0          0   \n",
      "542   1750000 -0.705921 -1.308863  -0.570187 -0.929397         1          0   \n",
      "543   1750000 -1.033389  0.047278  -0.570187 -0.929397         0          0   \n",
      "544   1750000 -0.599839  0.047278  -0.570187  0.224410         1          0   \n",
      "\n",
      "     basement  hotwaterheating  airconditioning   parking  prefarea  \\\n",
      "0           0                0                1  1.517692         1   \n",
      "1           0                0                1  2.679409         0   \n",
      "2           1                0                0  1.517692         1   \n",
      "3           1                0                1  2.679409         1   \n",
      "4           1                0                1  1.517692         0   \n",
      "..        ...              ...              ...       ...       ...   \n",
      "540         1                0                0  1.517692         0   \n",
      "541         0                0                0 -0.805741         0   \n",
      "542         0                0                0 -0.805741         0   \n",
      "543         0                0                0 -0.805741         0   \n",
      "544         0                0                0 -0.805741         0   \n",
      "\n",
      "     furnishingstatus  \n",
      "0                   0  \n",
      "1                   0  \n",
      "2                   1  \n",
      "3                   0  \n",
      "4                   0  \n",
      "..                ...  \n",
      "540                 2  \n",
      "541                 1  \n",
      "542                 2  \n",
      "543                 0  \n",
      "544                 2  \n",
      "\n",
      "[545 rows x 13 columns]\n"
     ]
    }
   ],
   "source": [
    "scaler = StandardScaler()\n",
    "df[['area', 'bedrooms', 'bathrooms', 'stories', 'parking']] = scaler.fit_transform(df[['area', 'bedrooms', 'bathrooms', 'stories', 'parking']])\n",
    "\n",
    "print(df)"
   ]
  },
  {
   "cell_type": "code",
   "execution_count": 48,
   "metadata": {},
   "outputs": [
    {
     "name": "stdout",
     "output_type": "stream",
     "text": [
      "X: \n",
      "        area  bedrooms  bathrooms   stories  mainroad  guestroom  basement  \\\n",
      "0  1.046726  1.403419   1.421812  1.378217         1          0         0   \n",
      "1  1.757010  1.403419   5.405809  2.532024         1          0         0   \n",
      "2  2.218232  0.047278   1.421812  0.224410         1          0         1   \n",
      "3  1.083624  1.403419   1.421812  0.224410         1          0         1   \n",
      "4  1.046726  1.403419  -0.570187  0.224410         1          1         1   \n",
      "\n",
      "   hotwaterheating  airconditioning   parking  prefarea  furnishingstatus  \n",
      "0                0                1  1.517692         1                 0  \n",
      "1                0                1  2.679409         0                 0  \n",
      "2                0                0  1.517692         1                 1  \n",
      "3                0                1  2.679409         1                 0  \n",
      "4                0                1  1.517692         0                 0  \n",
      "________________________\n",
      "y: \n",
      " 0    13300000\n",
      "1    12250000\n",
      "2    12250000\n",
      "3    12215000\n",
      "4    11410000\n",
      "Name: price, dtype: int64\n"
     ]
    }
   ],
   "source": [
    "X = df.drop('price', axis=1)\n",
    "y = df['price']\n",
    "\n",
    "print(f\"X: \\n {X.head()}\")\n",
    "print(\"________________________\")\n",
    "print(f\"y: \\n {y.head()}\")"
   ]
  },
  {
   "cell_type": "code",
   "execution_count": 49,
   "metadata": {},
   "outputs": [],
   "source": [
    "X_train, X_test, y_train, y_test = sklearn.model_selection.train_test_split(X, y, test_size=0.2)\n",
    "\n",
    "X_train_tensor = torch.tensor(X_train.values, dtype=torch.float32, device=device)\n",
    "X_test_tensor = torch.tensor(X_test.values, dtype=torch.float32, device=device)\n",
    "y_train_tensor = torch.tensor(y_train.values, dtype=torch.float32, device=device)\n",
    "y_test_tensor = torch.tensor(y_test.values, dtype=torch.float32, device=device)"
   ]
  },
  {
   "cell_type": "code",
   "execution_count": 50,
   "metadata": {},
   "outputs": [],
   "source": [
    "train_data = TensorDataset(X_train_tensor, y_train_tensor)\n",
    "test_data = TensorDataset(X_test_tensor, y_test_tensor)"
   ]
  },
  {
   "cell_type": "code",
   "execution_count": 51,
   "metadata": {},
   "outputs": [],
   "source": [
    "batch_size = 32\n",
    "train_loader = DataLoader(train_data, batch_size=batch_size, shuffle=True)\n",
    "test_loader = DataLoader(test_data, batch_size=batch_size)"
   ]
  },
  {
   "cell_type": "code",
   "execution_count": null,
   "metadata": {},
   "outputs": [],
   "source": []
  },
  {
   "cell_type": "code",
   "execution_count": null,
   "metadata": {},
   "outputs": [],
   "source": []
  },
  {
   "cell_type": "code",
   "execution_count": null,
   "metadata": {},
   "outputs": [],
   "source": []
  },
  {
   "cell_type": "code",
   "execution_count": null,
   "metadata": {},
   "outputs": [],
   "source": []
  },
  {
   "cell_type": "code",
   "execution_count": null,
   "metadata": {},
   "outputs": [],
   "source": []
  },
  {
   "cell_type": "code",
   "execution_count": null,
   "metadata": {},
   "outputs": [],
   "source": []
  }
 ],
 "metadata": {
  "kernelspec": {
   "display_name": "Python 3",
   "language": "python",
   "name": "python3"
  },
  "language_info": {
   "codemirror_mode": {
    "name": "ipython",
    "version": 3
   },
   "file_extension": ".py",
   "mimetype": "text/x-python",
   "name": "python",
   "nbconvert_exporter": "python",
   "pygments_lexer": "ipython3",
   "version": "3.8.18"
  }
 },
 "nbformat": 4,
 "nbformat_minor": 2
}
