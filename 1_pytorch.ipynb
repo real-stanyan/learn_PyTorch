{
 "cells": [
  {
   "cell_type": "code",
   "execution_count": 1,
   "id": "54c5fd45-0235-40c8-8b08-0ffd8b4c4b64",
   "metadata": {},
   "outputs": [
    {
     "name": "stdout",
     "output_type": "stream",
     "text": [
      "PyTorch version: 2.1.2\n",
      "Is MPS (Metal Performance Shader) built? True\n",
      "Is MPS available? True\n",
      "Using device: mps\n"
     ]
    }
   ],
   "source": [
    "import torch\n",
    "import numpy as np\n",
    "import pandas as pd\n",
    "import sklearn\n",
    "import matplotlib.pyplot as plt\n",
    "\n",
    "print(f\"PyTorch version: {torch.__version__}\")\n",
    "\n",
    "# Check PyTorch has access to MPS (Metal Performance Shader, Apple's GPU architecture)\n",
    "print(f\"Is MPS (Metal Performance Shader) built? {torch.backends.mps.is_built()}\")\n",
    "print(f\"Is MPS available? {torch.backends.mps.is_available()}\")\n",
    "\n",
    "# Set the device      \n",
    "device = \"mps\" if torch.backends.mps.is_available() else \"cpu\"\n",
    "print(f\"Using device: {device}\")"
   ]
  },
  {
   "cell_type": "markdown",
   "id": "170bf14d",
   "metadata": {},
   "source": [
    "# Create a random tensor with shape (7, 7)"
   ]
  },
  {
   "cell_type": "code",
   "execution_count": 15,
   "id": "08578db4",
   "metadata": {},
   "outputs": [
    {
     "name": "stdout",
     "output_type": "stream",
     "text": [
      "tensor: tensor([[0.2310, 0.5664, 0.1703, 0.0684, 0.3667, 0.5758, 0.7884],\n",
      "        [0.0623, 0.7318, 0.7455, 0.0973, 0.8510, 0.4961, 0.5676],\n",
      "        [0.7225, 0.7311, 0.2361, 0.1366, 0.7578, 0.5880, 0.5419],\n",
      "        [0.7385, 0.6506, 0.9117, 0.1698, 0.7898, 0.1925, 0.9009],\n",
      "        [0.3452, 0.6005, 0.5847, 0.0691, 0.3753, 0.6395, 0.3251],\n",
      "        [0.3318, 0.2271, 0.3374, 0.1161, 0.6811, 0.7789, 0.6789],\n",
      "        [0.4228, 0.8342, 0.2356, 0.4934, 0.8657, 0.6106, 0.8354]],\n",
      "       device='mps:0') \n",
      " tensor shape: torch.Size([7, 7]) \n",
      " tensor device: mps:0 \n",
      " tensor dtype: torch.float32\n"
     ]
    }
   ],
   "source": [
    "tensor = torch.rand(7,7, device=device)\n",
    "print(f\"tensor: {tensor} \\n tensor shape: {tensor.shape} \\n tensor device: {tensor.device} \\n tensor dtype: {tensor.dtype}\")"
   ]
  },
  {
   "cell_type": "code",
   "execution_count": 17,
   "id": "3dda56f5",
   "metadata": {},
   "outputs": [
    {
     "name": "stdout",
     "output_type": "stream",
     "text": [
      "tensor([[1.3569],\n",
      "        [1.5516],\n",
      "        [1.8141],\n",
      "        [1.7301],\n",
      "        [1.3407],\n",
      "        [1.7029],\n",
      "        [2.1564]], device='mps:0')\n"
     ]
    }
   ],
   "source": [
    "Y = torch.rand(1,7, device=device)\n",
    "print(tensor @ Y.T)"
   ]
  },
  {
   "cell_type": "code",
   "execution_count": 19,
   "id": "8724bcf5",
   "metadata": {},
   "outputs": [
    {
     "name": "stdout",
     "output_type": "stream",
     "text": [
      "tensor([[8.1718e-01, 5.8811e-01, 5.5805e-01, 7.6914e-01, 3.3936e-01, 4.5596e-01,\n",
      "         6.7508e-01],\n",
      "        [4.4060e-04, 4.0876e-01, 1.7912e-01, 5.9732e-01, 8.4722e-01, 4.6701e-01,\n",
      "         2.0730e-01],\n",
      "        [4.2425e-01, 7.3200e-01, 7.9633e-01, 2.4987e-01, 9.2944e-01, 3.5299e-01,\n",
      "         9.5028e-01],\n",
      "        [6.7541e-01, 7.9429e-01, 5.8153e-01, 3.0577e-02, 7.8344e-01, 8.6078e-01,\n",
      "         8.9267e-01],\n",
      "        [7.6115e-01, 7.6772e-01, 5.8025e-01, 4.3897e-01, 1.9158e-01, 5.0489e-01,\n",
      "         2.6444e-01],\n",
      "        [6.4470e-01, 3.7207e-01, 8.9172e-01, 8.0635e-01, 6.0971e-01, 6.0305e-01,\n",
      "         9.0344e-02],\n",
      "        [9.7051e-01, 8.7768e-01, 6.2648e-02, 1.2800e-01, 2.2489e-01, 8.6703e-01,\n",
      "         5.0311e-01]], device='mps:0')\n",
      "tensor([[8.1718e-01, 5.8811e-01, 5.5805e-01, 7.6914e-01, 3.3936e-01, 4.5596e-01,\n",
      "         6.7508e-01],\n",
      "        [4.4060e-04, 4.0876e-01, 1.7912e-01, 5.9732e-01, 8.4722e-01, 4.6701e-01,\n",
      "         2.0730e-01],\n",
      "        [4.2425e-01, 7.3200e-01, 7.9633e-01, 2.4987e-01, 9.2944e-01, 3.5299e-01,\n",
      "         9.5028e-01],\n",
      "        [6.7541e-01, 7.9429e-01, 5.8153e-01, 3.0577e-02, 7.8344e-01, 8.6078e-01,\n",
      "         8.9267e-01],\n",
      "        [7.6115e-01, 7.6772e-01, 5.8025e-01, 4.3897e-01, 1.9158e-01, 5.0489e-01,\n",
      "         2.6444e-01],\n",
      "        [6.4470e-01, 3.7207e-01, 8.9172e-01, 8.0635e-01, 6.0971e-01, 6.0305e-01,\n",
      "         9.0344e-02],\n",
      "        [9.7051e-01, 8.7768e-01, 6.2648e-02, 1.2800e-01, 2.2489e-01, 8.6703e-01,\n",
      "         5.0311e-01]], device='mps:0')\n"
     ]
    }
   ],
   "source": [
    "torch.manual_seed(42)\n",
    "X = torch.rand(7,7, device=device)\n",
    "torch.manual_seed(42)\n",
    "Z = torch.rand(7,7, device=device)\n",
    "print(X)\n",
    "print(Z)"
   ]
  }
 ],
 "metadata": {
  "kernelspec": {
   "display_name": "Python 3 (ipykernel)",
   "language": "python",
   "name": "python3"
  },
  "language_info": {
   "codemirror_mode": {
    "name": "ipython",
    "version": 3
   },
   "file_extension": ".py",
   "mimetype": "text/x-python",
   "name": "python",
   "nbconvert_exporter": "python",
   "pygments_lexer": "ipython3",
   "version": "3.8.18"
  }
 },
 "nbformat": 4,
 "nbformat_minor": 5
}
